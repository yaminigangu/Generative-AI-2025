{
  "nbformat": 4,
  "nbformat_minor": 0,
  "metadata": {
    "colab": {
      "provenance": [],
      "authorship_tag": "ABX9TyPwodiBn6H+Ha6AKYeYkAH5",
      "include_colab_link": true
    },
    "kernelspec": {
      "name": "python3",
      "display_name": "Python 3"
    },
    "language_info": {
      "name": "python"
    }
  },
  "cells": [
    {
      "cell_type": "markdown",
      "metadata": {
        "id": "view-in-github",
        "colab_type": "text"
      },
      "source": [
        "<a href=\"https://colab.research.google.com/github/yaminigangu/Generative-AI-2025/blob/main/Generative_AI_1.ipynb\" target=\"_parent\"><img src=\"https://colab.research.google.com/assets/colab-badge.svg\" alt=\"Open In Colab\"/></a>"
      ]
    },
    {
      "cell_type": "markdown",
      "source": [
        "1."
      ],
      "metadata": {
        "id": "Om34gLWf60yr"
      }
    },
    {
      "source": [
        "import numpy as np\n",
        "from sklearn.metrics import mean_absolute_error, mean_squared_error\n",
        "\n",
        "# Table 1: YActual vs. YPred\n",
        "Y_actual = [20, 30, 40, 50, 60]\n",
        "Y_pred = [20.5, 30.3, 40.2, 50.6, 60.7]\n",
        "\n",
        "# Function to calculate error metrics from scratch\n",
        "def calculate_metrics_from_scratch(y_actual, y_pred):\n",
        "    n = len(y_actual)\n",
        "    # Corrected indentation for the following lines:\n",
        "    absolute_errors = [abs(y_a - y_p) for y_a, y_p in zip(y_actual, y_pred)]\n",
        "    squared_errors = [(y_a - y_p) ** 2 for y_a, y_p in zip(y_actual, y_pred)]\n",
        "    mae = sum(absolute_errors) / n\n",
        "    mse = sum(squared_errors) / n\n",
        "    rmse = mse ** 0.5\n",
        "\n",
        "    return mae, mse, rmse\n",
        "\n",
        "# Calculate metrics from scratch\n",
        "mae_scratch, mse_scratch, rmse_scratch = calculate_metrics_from_scratch(Y_actual, Y_pred)\n",
        "\n",
        "# Calculate metrics using libraries\n",
        "mae_lib = mean_absolute_error(Y_actual, Y_pred)\n",
        "mse_lib = mean_squared_error(Y_actual, Y_pred)\n",
        "# Calculate RMSE by taking the square root of MSE\n",
        "rmse_lib = np.sqrt(mse_lib)  # Calculate RMSE using NumPy\n",
        "\n",
        "# Display results\n",
        "print(\"Error Metrics Calculated From Scratch:\")\n",
        "print(f\"Mean Absolute Error (MAE): {mae_scratch}\")\n",
        "print(f\"Mean Squared Error (MSE): {mse_scratch}\")\n",
        "print(f\"Root Mean Squared Error (RMSE): {rmse_scratch}\")\n",
        "\n",
        "print(\"\\nError Metrics Calculated Using Libraries:\")\n",
        "print(f\"Mean Absolute Error (MAE): {mae_lib}\")\n",
        "print(f\"Mean Squared Error (MSE): {mse_lib}\")\n",
        "print(f\"Root Mean Squared Error (RMSE): {rmse_lib}\")"
      ],
      "cell_type": "code",
      "metadata": {
        "colab": {
          "base_uri": "https://localhost:8080/"
        },
        "id": "NEzcyKcp6wTo",
        "outputId": "475aeb46-14d1-419a-e3b2-343df1c4f954"
      },
      "execution_count": 2,
      "outputs": [
        {
          "output_type": "stream",
          "name": "stdout",
          "text": [
            "Error Metrics Calculated From Scratch:\n",
            "Mean Absolute Error (MAE): 0.4600000000000016\n",
            "Mean Squared Error (MSE): 0.24600000000000147\n",
            "Root Mean Squared Error (RMSE): 0.49598387070549127\n",
            "\n",
            "Error Metrics Calculated Using Libraries:\n",
            "Mean Absolute Error (MAE): 0.4600000000000016\n",
            "Mean Squared Error (MSE): 0.24600000000000147\n",
            "Root Mean Squared Error (RMSE): 0.49598387070549127\n"
          ]
        }
      ]
    },
    {
      "cell_type": "markdown",
      "source": [
        "2."
      ],
      "metadata": {
        "id": "qjisTViq8HWc"
      }
    },
    {
      "source": [
        "import numpy as np\n",
        "from sklearn.metrics import accuracy_score, precision_score, recall_score, f1_score\n",
        "\n",
        "# Table 2: YActual vs. YPred\n",
        "Y_actual = [0, 0, 1, 1, 2, 0, 0, 0, 1, 0, 2, 0, 0, 1, 1, 2, 2, 1, 0, 2, 1, 0, 2, 2, 0, 2, 1, 2, 2, 2]\n",
        "Y_pred = [0, 0, 1, 0, 2, 0, 0, 1, 1, 2, 2, 1, 0, 2, 1, 0, 2, 2, 0, 2, 1, 2, 2, 2, 0, 2, 1, 2, 2, 2]\n",
        "\n",
        "# Function to calculate evaluation metrics from scratch\n",
        "def calculate_metrics_from_scratch(y_actual, y_pred):\n",
        "    n = len(y_actual)\n",
        "    # Corrected indentation for the following lines:\n",
        "    tp = [0] * 3  # True Positives for each class\n",
        "    fp = [0] * 3  # False Positives for each class\n",
        "    fn = [0] * 3  # False Negatives for each class\n",
        "\n",
        "    for a, p in zip(y_actual, y_pred):\n",
        "        if a == p:\n",
        "            tp[a] += 1\n",
        "        else:\n",
        "            fp[p] += 1\n",
        "            fn[a] += 1\n",
        "\n",
        "    accuracy = sum(tp) / n\n",
        "\n",
        "    precision = [tp[i] / (tp[i] + fp[i]) if (tp[i] + fp[i]) > 0 else 0 for i in range(3)]\n",
        "    recall = [tp[i] / (tp[i] + fn[i]) if (tp[i] + fn[i]) > 0 else 0 for i in range(3)]\n",
        "    f1 = [\n",
        "        2 * (precision[i] * recall[i]) / (precision[i] + recall[i]) if (precision[i] + recall[i]) > 0 else 0\n",
        "        for i in range(3)\n",
        "    ]\n",
        "\n",
        "    macro_precision = sum(precision) / 3\n",
        "    macro_recall = sum(recall) / 3\n",
        "    macro_f1 = sum(f1) / 3\n",
        "\n",
        "    return accuracy, macro_precision, macro_recall, macro_f1\n",
        "\n",
        "# Calculate metrics from scratch\n",
        "accuracy_scratch, precision_scratch, recall_scratch, f1_scratch = calculate_metrics_from_scratch(Y_actual, Y_pred)\n",
        "\n",
        "# Calculate metrics using libraries\n",
        "accuracy_lib = accuracy_score(Y_actual, Y_pred)\n",
        "precision_lib = precision_score(Y_actual, Y_pred, average=\"macro\")\n",
        "recall_lib = recall_score(Y_actual, Y_pred, average=\"macro\")\n",
        "f1_lib = f1_score(Y_actual, Y_pred, average=\"macro\")\n",
        "\n",
        "# Display results\n",
        "print(\"Evaluation Metrics Calculated From Scratch:\")\n",
        "print(f\"Accuracy: {accuracy_scratch}\")\n",
        "print(f\"Precision (Macro): {precision_scratch}\")\n",
        "print(f\"Recall (Macro): {recall_scratch}\")\n",
        "print(f\"F1 Score (Macro): {f1_scratch}\")\n",
        "\n",
        "print(\"\\nEvaluation Metrics Calculated Using Libraries:\")\n",
        "print(f\"Accuracy: {accuracy_lib}\")\n",
        "print(f\"Precision (Macro): {precision_lib}\")\n",
        "print(f\"Recall (Macro): {recall_lib}\")\n",
        "print(f\"F1 Score (Macro): {f1_lib}\")"
      ],
      "cell_type": "code",
      "metadata": {
        "colab": {
          "base_uri": "https://localhost:8080/"
        },
        "id": "tQq84MT87tkD",
        "outputId": "31e3e4e4-6658-48e1-daca-d3fa31c07b9e"
      },
      "execution_count": 4,
      "outputs": [
        {
          "output_type": "stream",
          "name": "stdout",
          "text": [
            "Evaluation Metrics Calculated From Scratch:\n",
            "Accuracy: 0.7333333333333333\n",
            "Precision (Macro): 0.7354497354497355\n",
            "Recall (Macro): 0.7234848484848485\n",
            "F1 Score (Macro): 0.7222222222222223\n",
            "\n",
            "Evaluation Metrics Calculated Using Libraries:\n",
            "Accuracy: 0.7333333333333333\n",
            "Precision (Macro): 0.7354497354497355\n",
            "Recall (Macro): 0.7234848484848485\n",
            "F1 Score (Macro): 0.7222222222222223\n"
          ]
        }
      ]
    }
  ]
}