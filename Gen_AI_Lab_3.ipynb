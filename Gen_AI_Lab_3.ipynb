{
  "nbformat": 4,
  "nbformat_minor": 0,
  "metadata": {
    "colab": {
      "provenance": [],
      "authorship_tag": "ABX9TyM+WfVImS7VsoRVR50gK8Uc",
      "include_colab_link": true
    },
    "kernelspec": {
      "name": "python3",
      "display_name": "Python 3"
    },
    "language_info": {
      "name": "python"
    }
  },
  "cells": [
    {
      "cell_type": "markdown",
      "metadata": {
        "id": "view-in-github",
        "colab_type": "text"
      },
      "source": [
        "<a href=\"https://colab.research.google.com/github/yaminigangu/Generative-AI-2025/blob/main/Gen_AI_Lab_3.ipynb\" target=\"_parent\"><img src=\"https://colab.research.google.com/assets/colab-badge.svg\" alt=\"Open In Colab\"/></a>"
      ]
    },
    {
      "cell_type": "markdown",
      "source": [
        "1."
      ],
      "metadata": {
        "id": "al8X9kZJAP2c"
      }
    },
    {
      "cell_type": "code",
      "execution_count": 1,
      "metadata": {
        "colab": {
          "base_uri": "https://localhost:8080/"
        },
        "id": "OwoPjp_2_HTM",
        "outputId": "2ddb61b8-bd5b-46f9-fa29-76da7438b6ba"
      },
      "outputs": [
        {
          "output_type": "stream",
          "name": "stdout",
          "text": [
            "The value of x at which f(x) is minimized: 3.520116624922333e-28\n"
          ]
        }
      ],
      "source": [
        "def f(x):\n",
        "    return 5 * x ** 4 + 3 * x ** 2 + 10\n",
        "\n",
        "def f_prime(x):\n",
        "    return 20 * x ** 3 + 6 * x\n",
        "\n",
        "def gradient_descent(learning_rate, max_iterations, initial_x):\n",
        "    x = initial_x\n",
        "    for _ in range(max_iterations):\n",
        "        x = x - learning_rate * f_prime(x)\n",
        "    return x\n",
        "\n",
        "# Parameters\n",
        "learning_rate = 0.01\n",
        "max_iterations = 1000\n",
        "initial_x = 2.0\n",
        "\n",
        "# Find the minimum value of f(x)\n",
        "min_x = gradient_descent(learning_rate, max_iterations, initial_x)\n",
        "print(\"The value of x at which f(x) is minimized:\", min_x)\n"
      ]
    },
    {
      "cell_type": "markdown",
      "source": [
        "2."
      ],
      "metadata": {
        "id": "izG0KT3yAS1A"
      }
    },
    {
      "cell_type": "code",
      "source": [
        "import math\n",
        "\n",
        "def g(x, y):\n",
        "    return 3 * x ** 2 + 5 * math.exp(-y) + 10\n",
        "\n",
        "def g_x(x, y):\n",
        "    return 6 * x\n",
        "\n",
        "def g_y(x, y):\n",
        "    return -5 * math.exp(-y)\n",
        "\n",
        "def gradient_descent(learning_rate, max_iterations, initial_x, initial_y):\n",
        "    x, y = initial_x, initial_y\n",
        "    for _ in range(max_iterations):\n",
        "        x = x - learning_rate * g_x(x, y)\n",
        "        y = y - learning_rate * g_y(x, y)\n",
        "    return x, y\n",
        "\n",
        "# Parameters\n",
        "learning_rate = 0.01\n",
        "max_iterations = 1000\n",
        "initial_x = 2.0\n",
        "initial_y = 2.0\n",
        "\n",
        "# Find the minimum value of g(x, y)\n",
        "min_x, min_y = gradient_descent(learning_rate, max_iterations, initial_x, initial_y)\n",
        "print(\"The values of x and y at which g(x, y) is minimized:\", min_x, min_y)\n"
      ],
      "metadata": {
        "colab": {
          "base_uri": "https://localhost:8080/"
        },
        "id": "_dPSej6w_gTu",
        "outputId": "8952667c-e787-4b6d-b2c7-c5504185d201"
      },
      "execution_count": 2,
      "outputs": [
        {
          "output_type": "stream",
          "name": "stdout",
          "text": [
            "The values of x and y at which g(x, y) is minimized: 2.6846247849867387e-27 4.050747436938924\n"
          ]
        }
      ]
    },
    {
      "cell_type": "markdown",
      "source": [
        "3."
      ],
      "metadata": {
        "id": "0SwsRLB2AWL1"
      }
    },
    {
      "cell_type": "code",
      "source": [
        "import math\n",
        "\n",
        "def sigmoid(x):\n",
        "    return 1 / (1 + math.exp(-x))\n",
        "\n",
        "def sigmoid_prime(x):\n",
        "    sx = sigmoid(x)\n",
        "    return sx * (1 - sx)\n",
        "\n",
        "def gradient_descent(learning_rate, max_iterations, initial_x):\n",
        "    x = initial_x\n",
        "    for _ in range(max_iterations):\n",
        "        x = x - learning_rate * sigmoid_prime(x)\n",
        "    return x\n",
        "\n",
        "# Parameters\n",
        "learning_rate = 0.01\n",
        "max_iterations = 1000\n",
        "initial_x = 2.0\n",
        "\n",
        "# Find the minimum value of z(x)\n",
        "min_x = gradient_descent(learning_rate, max_iterations, initial_x)\n",
        "print(\"The value of x at which z(x) is minimized:\", min_x)\n"
      ],
      "metadata": {
        "colab": {
          "base_uri": "https://localhost:8080/"
        },
        "id": "K2jzbgW2_wam",
        "outputId": "22ec22db-6e5f-4c43-e76a-01aa0408cb95"
      },
      "execution_count": 3,
      "outputs": [
        {
          "output_type": "stream",
          "name": "stdout",
          "text": [
            "The value of x at which z(x) is minimized: 0.3119424266221065\n"
          ]
        }
      ]
    },
    {
      "cell_type": "markdown",
      "source": [
        "4."
      ],
      "metadata": {
        "id": "zryxF8Z_A6eU"
      }
    },
    {
      "cell_type": "code",
      "source": [
        "# Defining the model function\n",
        "def model(x, M, C):\n",
        "    return M * x + C\n",
        "\n",
        "# Derivative of the Squared Error with respect to M\n",
        "def dSE_dM(x, y, M, C):\n",
        "    return -2 * x * (y - model(x, M, C))\n",
        "\n",
        "# Derivative of the Squared Error with respect to C\n",
        "def dSE_dC(x, y, M, C):\n",
        "    return -2 * (y - model(x, M, C))\n",
        "\n",
        "# Gradient Descent function\n",
        "def gradient_descent(X, Y, learning_rate, max_iterations, initial_M, initial_C):\n",
        "    M, C = initial_M, initial_C\n",
        "    for _ in range(max_iterations):\n",
        "        for x, y in zip(X, Y):\n",
        "            M = M - learning_rate * dSE_dM(x, y, M, C)\n",
        "            C = C - learning_rate * dSE_dC(x, y, M, C)\n",
        "    return M, C\n",
        "\n",
        "# Sample data (X, Y)\n",
        "X = [1, 2, 3, 4]\n",
        "Y = [2, 4, 6, 8]\n",
        "\n",
        "# Parameters\n",
        "learning_rate = 0.01\n",
        "max_iterations = 1000\n",
        "initial_M = 0.0\n",
        "initial_C = 0.0\n",
        "\n",
        "# Find the optimal values of M and C\n",
        "optimal_M, optimal_C = gradient_descent(X, Y, learning_rate, max_iterations, initial_M, initial_C)\n",
        "print(\"The optimal values of M and C are:\", optimal_M, optimal_C)\n"
      ],
      "metadata": {
        "colab": {
          "base_uri": "https://localhost:8080/"
        },
        "id": "OaYoYL8jAZ2H",
        "outputId": "94005678-c15e-40dd-b778-218342c0cab9"
      },
      "execution_count": 4,
      "outputs": [
        {
          "output_type": "stream",
          "name": "stdout",
          "text": [
            "The optimal values of M and C are: 1.9999998815747182 3.7962766099098773e-07\n"
          ]
        }
      ]
    }
  ]
}