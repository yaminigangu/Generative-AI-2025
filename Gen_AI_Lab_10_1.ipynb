{
  "nbformat": 4,
  "nbformat_minor": 0,
  "metadata": {
    "colab": {
      "provenance": [],
      "authorship_tag": "ABX9TyPwEgLUY85zKCyCDR7X70yE",
      "include_colab_link": true
    },
    "kernelspec": {
      "name": "python3",
      "display_name": "Python 3"
    },
    "language_info": {
      "name": "python"
    }
  },
  "cells": [
    {
      "cell_type": "markdown",
      "metadata": {
        "id": "view-in-github",
        "colab_type": "text"
      },
      "source": [
        "<a href=\"https://colab.research.google.com/github/yaminigangu/Generative-AI-2025/blob/main/Gen_AI_Lab_10_1.ipynb\" target=\"_parent\"><img src=\"https://colab.research.google.com/assets/colab-badge.svg\" alt=\"Open In Colab\"/></a>"
      ]
    },
    {
      "cell_type": "code",
      "execution_count": 1,
      "metadata": {
        "colab": {
          "base_uri": "https://localhost:8080/"
        },
        "id": "TjjOo9W-uZgR",
        "outputId": "509cc051-7970-451f-da17-04457c0d56ab"
      },
      "outputs": [
        {
          "output_type": "stream",
          "name": "stdout",
          "text": [
            "Downloading data from https://storage.googleapis.com/tensorflow/tf-keras-datasets/mnist.npz\n",
            "\u001b[1m11490434/11490434\u001b[0m \u001b[32m━━━━━━━━━━━━━━━━━━━━\u001b[0m\u001b[37m\u001b[0m \u001b[1m1s\u001b[0m 0us/step\n"
          ]
        },
        {
          "output_type": "stream",
          "name": "stderr",
          "text": [
            "/usr/local/lib/python3.11/dist-packages/keras/src/layers/convolutional/base_conv.py:107: UserWarning: Do not pass an `input_shape`/`input_dim` argument to a layer. When using Sequential models, prefer using an `Input(shape)` object as the first layer in the model instead.\n",
            "  super().__init__(activity_regularizer=activity_regularizer, **kwargs)\n"
          ]
        },
        {
          "output_type": "stream",
          "name": "stdout",
          "text": [
            "Epoch 1/30\n",
            "1875/1875 - 53s - 28ms/step - accuracy: 0.9612 - loss: 0.1251 - val_accuracy: 0.9880 - val_loss: 0.0382\n",
            "Epoch 2/30\n",
            "1875/1875 - 50s - 27ms/step - accuracy: 0.9876 - loss: 0.0419 - val_accuracy: 0.9901 - val_loss: 0.0327\n",
            "Epoch 3/30\n",
            "1875/1875 - 79s - 42ms/step - accuracy: 0.9908 - loss: 0.0286 - val_accuracy: 0.9906 - val_loss: 0.0283\n",
            "Epoch 4/30\n",
            "1875/1875 - 48s - 26ms/step - accuracy: 0.9940 - loss: 0.0196 - val_accuracy: 0.9911 - val_loss: 0.0263\n",
            "Epoch 5/30\n",
            "1875/1875 - 84s - 45ms/step - accuracy: 0.9948 - loss: 0.0159 - val_accuracy: 0.9907 - val_loss: 0.0310\n",
            "Epoch 6/30\n",
            "1875/1875 - 79s - 42ms/step - accuracy: 0.9961 - loss: 0.0114 - val_accuracy: 0.9896 - val_loss: 0.0360\n",
            "Epoch 7/30\n",
            "1875/1875 - 83s - 44ms/step - accuracy: 0.9967 - loss: 0.0100 - val_accuracy: 0.9909 - val_loss: 0.0354\n",
            "Epoch 8/30\n",
            "1875/1875 - 82s - 44ms/step - accuracy: 0.9974 - loss: 0.0080 - val_accuracy: 0.9914 - val_loss: 0.0297\n",
            "Epoch 9/30\n",
            "1875/1875 - 84s - 45ms/step - accuracy: 0.9977 - loss: 0.0066 - val_accuracy: 0.9922 - val_loss: 0.0295\n",
            "Epoch 10/30\n",
            "1875/1875 - 79s - 42ms/step - accuracy: 0.9979 - loss: 0.0063 - val_accuracy: 0.9918 - val_loss: 0.0390\n",
            "Epoch 11/30\n",
            "1875/1875 - 83s - 44ms/step - accuracy: 0.9983 - loss: 0.0048 - val_accuracy: 0.9920 - val_loss: 0.0351\n",
            "Epoch 12/30\n",
            "1875/1875 - 82s - 44ms/step - accuracy: 0.9981 - loss: 0.0061 - val_accuracy: 0.9919 - val_loss: 0.0341\n",
            "Epoch 13/30\n",
            "1875/1875 - 83s - 45ms/step - accuracy: 0.9982 - loss: 0.0052 - val_accuracy: 0.9918 - val_loss: 0.0341\n",
            "Epoch 14/30\n",
            "1875/1875 - 80s - 42ms/step - accuracy: 0.9991 - loss: 0.0031 - val_accuracy: 0.9892 - val_loss: 0.0424\n",
            "Epoch 15/30\n",
            "1875/1875 - 83s - 44ms/step - accuracy: 0.9987 - loss: 0.0039 - val_accuracy: 0.9915 - val_loss: 0.0494\n",
            "Epoch 16/30\n",
            "1875/1875 - 84s - 45ms/step - accuracy: 0.9987 - loss: 0.0046 - val_accuracy: 0.9913 - val_loss: 0.0424\n",
            "Epoch 17/30\n",
            "1875/1875 - 49s - 26ms/step - accuracy: 0.9990 - loss: 0.0031 - val_accuracy: 0.9884 - val_loss: 0.0630\n",
            "Epoch 18/30\n",
            "1875/1875 - 79s - 42ms/step - accuracy: 0.9988 - loss: 0.0032 - val_accuracy: 0.9912 - val_loss: 0.0491\n",
            "Epoch 19/30\n",
            "1875/1875 - 83s - 44ms/step - accuracy: 0.9990 - loss: 0.0032 - val_accuracy: 0.9904 - val_loss: 0.0601\n",
            "Epoch 20/30\n",
            "1875/1875 - 81s - 43ms/step - accuracy: 0.9986 - loss: 0.0042 - val_accuracy: 0.9920 - val_loss: 0.0540\n",
            "Epoch 21/30\n",
            "1875/1875 - 83s - 45ms/step - accuracy: 0.9990 - loss: 0.0039 - val_accuracy: 0.9903 - val_loss: 0.0583\n",
            "Epoch 22/30\n",
            "1875/1875 - 46s - 25ms/step - accuracy: 0.9993 - loss: 0.0022 - val_accuracy: 0.9901 - val_loss: 0.0573\n",
            "Epoch 23/30\n",
            "1875/1875 - 83s - 44ms/step - accuracy: 0.9992 - loss: 0.0025 - val_accuracy: 0.9920 - val_loss: 0.0520\n",
            "Epoch 24/30\n",
            "1875/1875 - 82s - 44ms/step - accuracy: 0.9990 - loss: 0.0038 - val_accuracy: 0.9910 - val_loss: 0.0617\n",
            "Epoch 25/30\n",
            "1875/1875 - 81s - 43ms/step - accuracy: 0.9994 - loss: 0.0024 - val_accuracy: 0.9906 - val_loss: 0.0574\n",
            "Epoch 26/30\n",
            "1875/1875 - 81s - 43ms/step - accuracy: 0.9992 - loss: 0.0025 - val_accuracy: 0.9909 - val_loss: 0.0646\n",
            "Epoch 27/30\n",
            "1875/1875 - 82s - 44ms/step - accuracy: 0.9990 - loss: 0.0031 - val_accuracy: 0.9910 - val_loss: 0.0559\n",
            "Epoch 28/30\n",
            "1875/1875 - 82s - 44ms/step - accuracy: 0.9992 - loss: 0.0021 - val_accuracy: 0.9918 - val_loss: 0.0633\n",
            "Epoch 29/30\n",
            "1875/1875 - 81s - 43ms/step - accuracy: 0.9991 - loss: 0.0030 - val_accuracy: 0.9905 - val_loss: 0.0740\n",
            "Epoch 30/30\n",
            "1875/1875 - 82s - 44ms/step - accuracy: 0.9990 - loss: 0.0038 - val_accuracy: 0.9907 - val_loss: 0.0653\n",
            "Training Accuracy: 99.95%\n",
            "Testing Accuracy: 99.07%\n"
          ]
        }
      ],
      "source": [
        "import tensorflow as tf\n",
        "from tensorflow.keras.datasets import mnist\n",
        "from tensorflow.keras.models import Sequential\n",
        "from tensorflow.keras.layers import Conv2D, MaxPooling2D, Flatten, Dense\n",
        "from tensorflow.keras.utils import to_categorical\n",
        "\n",
        "# Load MNIST data\n",
        "(x_train, y_train), (x_test, y_test) = mnist.load_data()\n",
        "\n",
        "# Preprocessing\n",
        "x_train = x_train.reshape(-1, 28, 28, 1).astype('float32') / 255\n",
        "x_test = x_test.reshape(-1, 28, 28, 1).astype('float32') / 255\n",
        "\n",
        "# One-hot encoding for labels\n",
        "y_train = to_categorical(y_train, 10)\n",
        "y_test = to_categorical(y_test, 10)\n",
        "\n",
        "# Build CNN model\n",
        "model = Sequential([\n",
        "    Conv2D(32, (3, 3), activation='relu', input_shape=(28, 28, 1)),  # Convolution Layer 1\n",
        "    MaxPooling2D(pool_size=(2, 2)),                                 # Max Pooling Layer 1\n",
        "    Conv2D(64, (3, 3), activation='relu'),                          # Convolution Layer 2\n",
        "    MaxPooling2D(pool_size=(2, 2)),                                 # Max Pooling Layer 2\n",
        "    Flatten(),\n",
        "    Dense(128, activation='relu'),                                  # Dense Layer\n",
        "    Dense(10, activation='softmax')                                 # Output Layer (10 classes)\n",
        "])\n",
        "\n",
        "# Compile the model\n",
        "model.compile(optimizer='adam',\n",
        "              loss='categorical_crossentropy',\n",
        "              metrics=['accuracy'])\n",
        "\n",
        "# Train the model\n",
        "history = model.fit(x_train, y_train,\n",
        "                    epochs=30,\n",
        "                    batch_size=32,\n",
        "                    validation_data=(x_test, y_test),\n",
        "                    verbose=2)\n",
        "\n",
        "# Evaluate the model\n",
        "train_loss, train_acc = model.evaluate(x_train, y_train, verbose=0)\n",
        "test_loss, test_acc = model.evaluate(x_test, y_test, verbose=0)\n",
        "\n",
        "print(f\"Training Accuracy: {train_acc * 100:.2f}%\")\n",
        "print(f\"Testing Accuracy: {test_acc * 100:.2f}%\")\n"
      ]
    }
  ]
}