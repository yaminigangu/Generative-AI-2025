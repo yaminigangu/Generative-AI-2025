{
  "nbformat": 4,
  "nbformat_minor": 0,
  "metadata": {
    "colab": {
      "provenance": [],
      "authorship_tag": "ABX9TyOcAfAvgrRNCKABkJNJv2UW",
      "include_colab_link": true
    },
    "kernelspec": {
      "name": "python3",
      "display_name": "Python 3"
    },
    "language_info": {
      "name": "python"
    }
  },
  "cells": [
    {
      "cell_type": "markdown",
      "metadata": {
        "id": "view-in-github",
        "colab_type": "text"
      },
      "source": [
        "<a href=\"https://colab.research.google.com/github/yaminigangu/Generative-AI-2025/blob/main/Gen_AI_Lab_5_1.ipynb\" target=\"_parent\"><img src=\"https://colab.research.google.com/assets/colab-badge.svg\" alt=\"Open In Colab\"/></a>"
      ]
    },
    {
      "cell_type": "markdown",
      "source": [
        "1."
      ],
      "metadata": {
        "id": "c7jsMtxnI2U1"
      }
    },
    {
      "cell_type": "code",
      "execution_count": 5,
      "metadata": {
        "colab": {
          "base_uri": "https://localhost:8080/"
        },
        "id": "hy5cuui-H-oq",
        "outputId": "a92994e1-83b0-43ae-d87e-dbc06b40b177"
      },
      "outputs": [
        {
          "output_type": "stream",
          "name": "stdout",
          "text": [
            "Training MSE: 0.00024064963408631523\n",
            "Testing MSE: 8.732254393147791e-06\n",
            "Enter x1 and x2 separated by spaces: 0.1 0.2\n",
            "Predicted output: [0.35845133]\n"
          ]
        }
      ],
      "source": [
        "import numpy as np\n",
        "\n",
        "# Sigmoid activation function\n",
        "def sigmoid(x):\n",
        "    return 1 / (1 + np.exp(-x))\n",
        "\n",
        "# Derivative of the sigmoid activation function\n",
        "def sigmoid_derivative(x):\n",
        "    return x * (1 - x)\n",
        "\n",
        "# Linear activation function\n",
        "def linear(x):\n",
        "    return x\n",
        "\n",
        "# Derivative of the linear activation function\n",
        "def linear_derivative(x):\n",
        "    return 1\n",
        "\n",
        "# Mean Squared Error function\n",
        "def mean_squared_error(y_true, y_pred):\n",
        "    return np.mean((y_true - y_pred) ** 2)\n",
        "\n",
        "# Training data (Tabela 1)\n",
        "X_train = np.array([\n",
        "    [0.1, 0.2],\n",
        "    [0.2, 0.3],\n",
        "    [0.3, 0.4],\n",
        "    [0.6, 0.7],\n",
        "    [0.7, 0.8],\n",
        "    [0.8, 0.9]\n",
        "])\n",
        "\n",
        "y_train = np.array([\n",
        "    0.3432,\n",
        "    0.3490,\n",
        "    0.3548,\n",
        "    0.3720,\n",
        "    0.3776,\n",
        "    0.3832\n",
        "])\n",
        "\n",
        "# Testing data (Tabela 2)\n",
        "X_test = np.array([\n",
        "    [0.4, 0.5],\n",
        "    [0.5, 0.6]\n",
        "])\n",
        "\n",
        "y_test = np.array([\n",
        "    0.3606,\n",
        "    0.3663\n",
        "])\n",
        "\n",
        "# Initialize weights and biases\n",
        "input_layer_size = X_train.shape[1]\n",
        "hidden_layer_size = 2\n",
        "output_layer_size = 1\n",
        "\n",
        "weights_input_hidden = np.random.rand(input_layer_size, hidden_layer_size)\n",
        "bias_hidden = np.random.rand(hidden_layer_size)\n",
        "weights_hidden_output = np.random.rand(hidden_layer_size, output_layer_size)\n",
        "bias_output = np.random.rand(output_layer_size)\n",
        "\n",
        "# Learning rate for gradient descent\n",
        "learning_rate = 0.01\n",
        "\n",
        "# Number of epochs for training\n",
        "epochs = 1000\n",
        "\n",
        "# Training the model\n",
        "for epoch in range(epochs):\n",
        "    # Forward pass\n",
        "    hidden_input = np.dot(X_train, weights_input_hidden) + bias_hidden\n",
        "    hidden_output = sigmoid(hidden_input)\n",
        "\n",
        "    final_input = np.dot(hidden_output, weights_hidden_output) + bias_output\n",
        "    final_output = linear(final_input)\n",
        "\n",
        "    # Calculate error\n",
        "    # Reshape y_train to match final_output's shape\n",
        "    error = y_train.reshape(-1, 1) - final_output\n",
        "    # OR error = y_train[:, np.newaxis]- final_output # alternative reshaping\n",
        "\n",
        "    # Backward pass\n",
        "    d_final_output = error * linear_derivative(final_output)\n",
        "    error_hidden_layer = d_final_output.dot(weights_hidden_output.T)\n",
        "    d_hidden_output = error_hidden_layer * sigmoid_derivative(hidden_output)\n",
        "\n",
        "    # Update weights and biases\n",
        "    weights_hidden_output += hidden_output.T.dot(d_final_output) * learning_rate\n",
        "    bias_output += np.sum(d_final_output, axis=0) * learning_rate\n",
        "\n",
        "    weights_input_hidden += X_train.T.dot(d_hidden_output) * learning_rate\n",
        "    bias_hidden += np.sum(d_hidden_output, axis=0) * learning_rate\n",
        "\n",
        "\n",
        "# Calculate mean square error on training data\n",
        "hidden_input = np.dot(X_train, weights_input_hidden) + bias_hidden\n",
        "hidden_output = sigmoid(hidden_input)\n",
        "final_input = np.dot(hidden_output, weights_hidden_output) + bias_output\n",
        "final_output = linear(final_input)\n",
        "train_mse = mean_squared_error(y_train, final_output)\n",
        "print(f\"Training MSE: {train_mse}\")\n",
        "\n",
        "# Calculate mean square error on testing data\n",
        "hidden_input_test = np.dot(X_test, weights_input_hidden) + bias_hidden\n",
        "hidden_output_test = sigmoid(hidden_input_test)\n",
        "final_input_test = np.dot(hidden_output_test, weights_hidden_output) + bias_output\n",
        "final_output_test = linear(final_input_test)\n",
        "test_mse = mean_squared_error(y_test, final_output_test)\n",
        "print(f\"Testing MSE: {test_mse}\")\n",
        "\n",
        "# Predict output based on user input\n",
        "def predict(x):\n",
        "    hidden_input = np.dot(x, weights_input_hidden) + bias_hidden\n",
        "    hidden_output = sigmoid(hidden_input)\n",
        "    final_input = np.dot(hidden_output, weights_hidden_output) + bias_output\n",
        "    final_output = linear(final_input)\n",
        "    return final_output\n",
        "\n",
        "# Get user input\n",
        "user_input = np.array([float(i) for i in input(\"Enter x1 and x2 separated by spaces: \").split()])\n",
        "print(f\"Predicted output: {predict(user_input)}\")\n"
      ]
    }
  ]
}